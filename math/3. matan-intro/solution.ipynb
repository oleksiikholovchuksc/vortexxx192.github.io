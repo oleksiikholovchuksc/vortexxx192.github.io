{
 "cells": [
  {
   "cell_type": "markdown",
   "metadata": {},
   "source": [
    "### 1\n",
    "\n",
    "**Доказать, что последовательность не может иметь два различных предела одновременно.**\n",
    "\n",
    "Пусть у последовательность $\\{a_n\\}$ существуют два предела: $A$ и $B$. Тогда, по определению предела, должны выполняться следующее утверждение:\n",
    "\n",
    "$$\\forall \\varepsilon > 0 \\space \\space \\space \\exists N \\in \\mathbb{N} \\colon \\space \\space \\space \\forall n > N \\colon \\space (|x_n - A| < \\varepsilon \\space \\space \\space \\& \\space \\space \\space |x_n - B| < \\varepsilon)$$\n",
    "\n",
    "Выберем $\\varepsilon = \\frac{A + B}{2}$. При таком $\\varepsilon$ условие выше не будет выполняться."
   ]
  },
  {
   "cell_type": "markdown",
   "metadata": {},
   "source": [
    "### 2\n",
    "\n",
    "**Доказать, что сумма последовательностей сходится к сумме пределов этих последовательностей.**\n",
    "\n",
    "Пусть есть две последовательности $a$ и $b$, которые сходятся к числам $A$ и $B$ соответственно, и последовательность $c = a + b$. Докажем, что $c$ сходится к $C = A + B$.\n",
    "\n",
    "$$\\forall \\varepsilon_c > 0 \\space \\space \\space \\exists \\varepsilon_a < \\frac{\\varepsilon_c}{2}, \\varepsilon_b < \\frac{\\varepsilon_c}{2} \\space \\colon \\space \\space \\exists n_a, n_b \\space \\colon \\space \\space \\varepsilon_a > |a_{n_a} - A| \\space \\& \\space \\varepsilon_b > |b_{n_b} - B|$$"
   ]
  },
  {
   "cell_type": "markdown",
   "metadata": {},
   "source": [
    "### 3.1\n",
    "\n",
    "**Доказать, что сходящаяся последовательность является ограниченной.**\n",
    "\n",
    "Утверждение верно, так как из определения не ограниченной последовательности следует тот факт, что $\\forall n \\space \\exists m \\space \\colon \\space |x_m| > |x_n|$. А такое свойство плохо уживается с определением сходящейся последовательности.\n",
    "\n",
    "### 3.2\n",
    "\n",
    "**Доказать, что ограниченная последовательность не всегда является сходящейся.**\n",
    "\n",
    "Контрпример: последовательность $x(n) = (-1)^n$."
   ]
  }
 ],
 "metadata": {
  "kernelspec": {
   "display_name": "Python 2",
   "language": "python",
   "name": "python2"
  },
  "language_info": {
   "codemirror_mode": {
    "name": "ipython",
    "version": 2
   },
   "file_extension": ".py",
   "mimetype": "text/x-python",
   "name": "python",
   "nbconvert_exporter": "python",
   "pygments_lexer": "ipython2",
   "version": "2.7.11"
  }
 },
 "nbformat": 4,
 "nbformat_minor": 0
}
