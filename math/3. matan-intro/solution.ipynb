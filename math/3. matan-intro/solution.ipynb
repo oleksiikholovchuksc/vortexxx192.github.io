{
 "cells": [
  {
   "cell_type": "markdown",
   "metadata": {},
   "source": [
    "### 1\n",
    "\n",
    "**Доказать, что последовательность не может иметь два различных предела одновременно.**\n",
    "\n",
    "Пусть у последовательность $\\{a_n\\}$ существуют два предела: $A$ и $B$. Тогда, по определению предела, должны выполняться следующее утверждение:\n",
    "\n",
    "$$\\forall \\varepsilon > 0 \\space \\space \\space \\exists N \\in \\mathbb{N} \\colon \\space \\space \\space \\forall n > N \\colon \\space (|x_n - A| < \\varepsilon \\space \\space \\space \\& \\space \\space \\space |x_n - B| < \\varepsilon)$$\n",
    "\n",
    "Выберем $\\varepsilon = \\frac{A + B}{2}$. При таком $\\varepsilon$ условие выше не будет выполняться."
   ]
  }
 ],
 "metadata": {
  "kernelspec": {
   "display_name": "Python 2",
   "language": "python",
   "name": "python2"
  },
  "language_info": {
   "codemirror_mode": {
    "name": "ipython",
    "version": 2
   },
   "file_extension": ".py",
   "mimetype": "text/x-python",
   "name": "python",
   "nbconvert_exporter": "python",
   "pygments_lexer": "ipython2",
   "version": "2.7.11"
  }
 },
 "nbformat": 4,
 "nbformat_minor": 0
}
