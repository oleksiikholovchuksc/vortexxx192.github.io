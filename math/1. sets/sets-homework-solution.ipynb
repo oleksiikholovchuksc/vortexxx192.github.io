{
 "cells": [
  {
   "cell_type": "markdown",
   "metadata": {},
   "source": [
    "1) $$2^{ \\{1, \\{1, 2\\} \\} } \\times \\{ \\emptyset \\} = \\\\ \\{ \\ \\emptyset,\\ \\{ 1 \\},\\ \\{ \\{1, 2 \\} \\},\\ \\{1, \\{ 1, 2 \\} \\} \\ \\} \\times \\{ \\emptyset \\} = \\\\ \\{ \\ ( \\emptyset, \\emptyset),\\ (\\{ 1 \\}, \\emptyset),\\ (\\{ \\{ 1, 2 \\} \\}, \\emptyset),\\ (\\{ 1, \\{ 1, 2 \\} \\},\\ \\emptyset)\\ \\}$$"
   ]
  },
  {
   "cell_type": "markdown",
   "metadata": {},
   "source": [
    "1') $$2^{ \\{ 1, \\{ 1, 2 \\} \\} } \\times \\emptyset = \\emptyset$$"
   ]
  },
  {
   "cell_type": "markdown",
   "metadata": {},
   "source": [
    "2) $$2^{2^{\\emptyset}} = 2^{ \\{ \\emptyset \\} } = \\{\\ \\emptyset\\ \\}$$"
   ]
  },
  {
   "cell_type": "markdown",
   "metadata": {},
   "source": [
    "3) $$2^{ \\{3, \\{ 1 \\}, \\emptyset \\} } = \\{\\ \\emptyset,\\ \\{ 3 \\},\\ \\{ \\{ 1 \\} \\},\\ \\{ \\emptyset \\},\\ \\{ 3, \\{ 1 \\} \\},\\ \\{ 3, \\emptyset \\},\\ \\{ \\{ 1 \\}, \\emptyset \\},\\ \\{ 3, \\{ 1 \\}, \\emptyset \\}\\ \\}$$"
   ]
  },
  {
   "cell_type": "markdown",
   "metadata": {},
   "source": [
    "4) $$2^{ \\{ \\{ \\emptyset, \\{ \\emptyset \\} \\} \\} } = \\{ \\ \\emptyset, \\ \\{ \\emptyset, \\{ \\emptyset \\} \\ \\}$$"
   ]
  },
  {
   "cell_type": "markdown",
   "metadata": {},
   "source": [
    "5) $$2^{ \\{ \\emptyset, \\{ \\emptyset \\} \\} } = \\{ \\ \\emptyset,\\ \\{ \\emptyset \\},\\ \\{ \\{ \\emptyset \\} \\},\\ \\{ \\emptyset, \\{ \\emptyset \\} \\} \\ \\}$$"
   ]
  },
  {
   "cell_type": "markdown",
   "metadata": {},
   "source": [
    "6) $$(\\{ \\{ \\emptyset \\} \\}\\ \\cup\\ \\{ \\emptyset, \\{ \\emptyset \\} \\}) \\ \\times \\ (\\{ 1, 2, \\emptyset \\}\\ \\cap\\ \\{ \\emptyset, 2, 4 \\} ) = \\\\ \\{ \\emptyset, \\{ \\emptyset \\} \\} \\ \\times \\ \\{ 2, \\emptyset \\} = \\\\ \\{\\ (\\emptyset, 2),\\ (\\emptyset, \\emptyset),\\ (\\{ \\emptyset \\}, 2),\\ (\\{ \\emptyset \\}, \\emptyset)\\  \\}$$"
   ]
  },
  {
   "cell_type": "markdown",
   "metadata": {},
   "source": [
    "7) $$(( \\{ 1, 3, 2 \\} \\cup \\{ 1, 5 \\}) \\times (\\{2, 1, 3 \\} \\cap \\{ 2, 1, 5 \\})) \\ \\cap \\ (\\{ 3 \\} \\times \\{ 1, 2, 5 \\}) \\ = \\\\ (\\{ 1, 2, 3, 5 \\} \\ \\times \\ \\{ 2, 1 \\}) \\ \\cap \\ \\{ (3, 1),\\ (3, 2),\\ (3, 5) \\} \\ = \\\\ \\{ (1, 2),\\ (2, 2),\\ (3, 2),\\ (5, 2), (1, 1),\\ (2, 1),\\ (3, 1),\\ (5, 1) \\} \\ \\cap \\ \\{ (3, 1),\\ (3, 2),\\ (3, 5) \\} \\ = \\\\ \\{(3, 1),\\ (3, 2) \\}$$"
   ]
  },
  {
   "cell_type": "markdown",
   "metadata": {},
   "source": [
    "8) $$Правда \\ ли, что \\ (2, \\{1, 3\\}) \\in \\mathbb{N} \\times 2^{\\mathbb{N}} \\ ? \\\\ Да.$$"
   ]
  },
  {
   "cell_type": "markdown",
   "metadata": {},
   "source": [
    "9) $$Правда \\ ли, что \\ \\mathbb{N} \\times \\mathbb{R} \\subset 2^{\\mathbb{R} \\times \\mathbb{R}} \\ ? \\\\ Нет.$$"
   ]
  },
  {
   "cell_type": "markdown",
   "metadata": {},
   "source": [
    "10) $$Правда \\ ли, что \\ \\mathbb{N} \\times \\mathbb{R} \\in 2^{\\mathbb{R} \\times \\mathbb{R}} \\ ? \\\\ Да.$$"
   ]
  },
  {
   "cell_type": "markdown",
   "metadata": {},
   "source": [
    "11) $$Правда \\ ли, что \\ \\mathbb{R} \\times 2^{ \\mathbb{N} } \\notin 2^{\\mathbb{R} \\times \\mathbb{R}} \\ ? \\\\ Да.$$"
   ]
  },
  {
   "cell_type": "markdown",
   "metadata": {},
   "source": [
    "12) $$Правда \\ ли, что \\ (\\{ 2, 1 \\}, \\{ 1, 3 \\}) \\in \\mathbb{N} \\times 2^{\\mathbb{N}} \\ ? \\\\ Нет.$$"
   ]
  },
  {
   "cell_type": "markdown",
   "metadata": {},
   "source": [
    "13) $$Правда \\ ли, что \\ \\{ \\mathbb{N} \\times \\mathbb{R}, \\mathbb{R} \\times \\mathbb{R}, \\mathbb{N} \\times \\mathbb{Z} \\} \\subset 2^{\\mathbb{R} \\times \\mathbb{R} } \\ ? \\\\ Да.$$"
   ]
  },
  {
   "cell_type": "markdown",
   "metadata": {},
   "source": [
    "14) $$Правда \\ ли, что \\ \\{ (1, \\emptyset) \\} \\subset \\mathbb{R} \\times 2^{\\mathbb{R}} \\ ? \\\\ Да.$$"
   ]
  },
  {
   "cell_type": "markdown",
   "metadata": {},
   "source": [
    "15) $$Правда \\ ли, что \\ \\{ \\mathbb{R}^2, \\mathbb{R}^3 \\} \\subset 2^{\\mathbb{R} \\times \\mathbb{R} } \\ ? \\\\ Нет.$$"
   ]
  },
  {
   "cell_type": "markdown",
   "metadata": {},
   "source": [
    "16) $$Правда \\ ли, что \\ \\{ \\mathbb{R} \\} \\subset 2^{ \\mathbb{R} \\times \\mathbb{R} } \\ ? \\\\ Нет.$$"
   ]
  }
 ],
 "metadata": {
  "kernelspec": {
   "display_name": "Python 2",
   "language": "python",
   "name": "python2"
  },
  "language_info": {
   "codemirror_mode": {
    "name": "ipython",
    "version": 2
   },
   "file_extension": ".py",
   "mimetype": "text/x-python",
   "name": "python",
   "nbconvert_exporter": "python",
   "pygments_lexer": "ipython2",
   "version": "2.7.11"
  }
 },
 "nbformat": 4,
 "nbformat_minor": 0
}
